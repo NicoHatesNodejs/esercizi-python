{
  "cells": [
    {
      "cell_type": "markdown",
      "metadata": {
        "id": "inJF5uifNBg0"
      },
      "source": [
        "# Esercizi"
      ]
    },
    {
      "cell_type": "code",
      "execution_count": 6,
      "metadata": {
        "id": "EFiuNikwM8hY"
      },
      "outputs": [
        {
          "name": "stdout",
          "output_type": "stream",
          "text": [
            "   *\n",
            "    \n"
          ]
        }
      ],
      "source": [
        "# Es 7.1: Scrivi la funzione cubo(n) che stampi a schermo un quadrato di lato nxn formato utilizzando il carattere *\n",
        "#         Esempio:                       8 ->       *  - - - - - - *     2 ->   * *\n",
        "#                                                  / |           / |          * * *\n",
        "#                                                /   |         /   |          * *\n",
        "#                                              /     |       /     |\n",
        "#                                            * - - - - - - *       |\n",
        "#                                            |       |     |       |\n",
        "#                                            |       |     |       |\n",
        "#                                            |       * - - | - - - *\n",
        "#                                            |     /       |     /\n",
        "#                                            |   /         |   /\n",
        "#                                            | /           | /\n",
        "#                                            * - - - - - - *\n",
        "\n",
        "def cubo(n):\n",
        "    for y in range(n):\n",
        "        for conta in range(n-(y+1)):\n",
        "            print(\" \", end = \"\")\n",
        "        for x in range(n):\n",
        "            if y == 0 and ( x == n-1 or x == 3*n-1):\n",
        "                print(\"*\", end = \"\")\n",
        "            elif y == 0 and x%2 == 0 and ( x > n-1 and x < 3*n - 1 ):\n",
        "                print(\"-\", end = \" \")\n",
        "            else:\n",
        "                print(\" \", end = \" \")\n",
        "        print(\"\")\n",
        "\n",
        "\n",
        "\n",
        "lato = int(input(\"Inserisci il lato del cubo\"))\n",
        "\n",
        "while lato <= 0:\n",
        "    lato = int(input(\"Misura non valida! Riprovare\"))\n",
        "\n",
        "cubo(lato)\n",
        "\n",
        "\n",
        "\n",
        "\n",
        "            \n"
      ]
    }
  ],
  "metadata": {
    "colab": {
      "provenance": []
    },
    "kernelspec": {
      "display_name": "Python 3",
      "name": "python3"
    },
    "language_info": {
      "codemirror_mode": {
        "name": "ipython",
        "version": 3
      },
      "file_extension": ".py",
      "mimetype": "text/x-python",
      "name": "python",
      "nbconvert_exporter": "python",
      "pygments_lexer": "ipython3",
      "version": "3.10.8"
    }
  },
  "nbformat": 4,
  "nbformat_minor": 0
}
