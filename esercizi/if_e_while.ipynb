{
  "cells": [
    {
      "cell_type": "markdown",
      "metadata": {
        "id": "HB3XbPDcSqe1"
      },
      "source": [
        "# Esercizi IF"
      ]
    },
    {
      "cell_type": "code",
      "execution_count": 7,
      "metadata": {
        "id": "0U7L9A29RfeT"
      },
      "outputs": [
        {
          "name": "stdout",
          "output_type": "stream",
          "text": [
            "Volevi fregarmi pezzo di merda\n"
          ]
        }
      ],
      "source": [
        "# Es 4.1: Ottenere dall'utente un numero in input e scrivere a schermo \"Pari\" se il numero è pari, scrivere \"Dispari\" altrimenti\n",
        "x = int(input(\"Inserisci un numero\"))\n",
        "if x == 0:\n",
        "    print(\"Numero non valido\")\n",
        "elif x % 2 == 0:\n",
        "    print(\"Pari\")\n",
        "else:\n",
        "    print(\"Dispari\")"
      ]
    },
    {
      "cell_type": "code",
      "execution_count": 2,
      "metadata": {
        "id": "gE3RVr9ORuwP"
      },
      "outputs": [
        {
          "ename": "NameError",
          "evalue": "name 'x' is not defined",
          "output_type": "error",
          "traceback": [
            "\u001b[0;31m---------------------------------------------------------------------------\u001b[0m",
            "\u001b[0;31mNameError\u001b[0m                                 Traceback (most recent call last)",
            "\u001b[1;32m/workspaces/esercizi-python/esercizi/if_e_while.ipynb Cella 3\u001b[0m line \u001b[0;36m8\n\u001b[1;32m      <a href='vscode-notebook-cell://codespaces%2Bzany-space-guide-wr76x4xgqwpxcg5pw/workspaces/esercizi-python/esercizi/if_e_while.ipynb#W2sdnNjb2RlLXJlbW90ZQ%3D%3D?line=5'>6</a>\u001b[0m         temp \u001b[39m=\u001b[39m \u001b[39mfloat\u001b[39m(\u001b[39minput\u001b[39m(\u001b[39m\"\u001b[39m\u001b[39mNumero non valido, reinserire\u001b[39m\u001b[39m\"\u001b[39m))\n\u001b[1;32m      <a href='vscode-notebook-cell://codespaces%2Bzany-space-guide-wr76x4xgqwpxcg5pw/workspaces/esercizi-python/esercizi/if_e_while.ipynb#W2sdnNjb2RlLXJlbW90ZQ%3D%3D?line=6'>7</a>\u001b[0m     angolo \u001b[39m=\u001b[39m temp\n\u001b[0;32m----> <a href='vscode-notebook-cell://codespaces%2Bzany-space-guide-wr76x4xgqwpxcg5pw/workspaces/esercizi-python/esercizi/if_e_while.ipynb#W2sdnNjb2RlLXJlbW90ZQ%3D%3D?line=7'>8</a>\u001b[0m \u001b[39mif\u001b[39;00m x \u001b[39m+\u001b[39m y \u001b[39m+\u001b[39m z \u001b[39m==\u001b[39m \u001b[39m180\u001b[39m:\n\u001b[1;32m      <a href='vscode-notebook-cell://codespaces%2Bzany-space-guide-wr76x4xgqwpxcg5pw/workspaces/esercizi-python/esercizi/if_e_while.ipynb#W2sdnNjb2RlLXJlbW90ZQ%3D%3D?line=8'>9</a>\u001b[0m     \u001b[39mprint\u001b[39m(\u001b[39m\"\u001b[39m\u001b[39mLa figura risultante è un triangolo\u001b[39m\u001b[39m\"\u001b[39m)\n\u001b[1;32m     <a href='vscode-notebook-cell://codespaces%2Bzany-space-guide-wr76x4xgqwpxcg5pw/workspaces/esercizi-python/esercizi/if_e_while.ipynb#W2sdnNjb2RlLXJlbW90ZQ%3D%3D?line=9'>10</a>\u001b[0m \u001b[39melse\u001b[39;00m:\n",
            "\u001b[0;31mNameError\u001b[0m: name 'x' is not defined"
          ]
        }
      ],
      "source": [
        "# Es 4.2: Ottenere dall'utente tre angoli caso siano i tre angoli di un triangolo scrivere a schermo \"È un triangolo\", altrimenti \"Non è un triangolo\"\n"
      ]
    },
    {
      "cell_type": "code",
      "execution_count": 8,
      "metadata": {
        "id": "r1A_DavcSKgi"
      },
      "outputs": [
        {
          "name": "stdout",
          "output_type": "stream",
          "text": [
            "La figura risultante è un triangolo\n",
            "Il triangolo è retto\n"
          ]
        }
      ],
      "source": [
        "# Es 4.3: Ottenuti dall'utente tre angoli di un tringolo scrivere a schermo se i tre angoli descrivono un triangolo rettangolo o no\n",
        "x = float(input(\"Inserisci il primo angolo\"))\n",
        "y = float(input(\"Inserisci il secondo numero\"))\n",
        "z = float(input(\"Inserisci il terzo angolo\"))\n",
        "if x + y + z == 180:\n",
        "    print(\"La figura risultante è un triangolo\")\n",
        "    if x or y or z == 90:\n",
        "        print(\"Il triangolo è retto\")\n",
        "    else:\n",
        "        print(\"Il triangolo non è retto\")\n",
        "else:\n",
        "    print(\"La figura risultante non è un triangolo\")"
      ]
    },
    {
      "cell_type": "code",
      "execution_count": 9,
      "metadata": {
        "id": "iA9D4X_GSims"
      },
      "outputs": [
        {
          "name": "stdout",
          "output_type": "stream",
          "text": [
            "La figura risultante è un triangolo\n",
            "Il triangolo è equilatero\n"
          ]
        }
      ],
      "source": [
        "# Es 4.4: Ottenuti dall'utente tre angoli di un tringolo scrivere a schermo se i tre angoli descrivono un triangolo equilatero o no\n",
        "x = float(input(\"Inserisci il primo angolo\"))\n",
        "y = float(input(\"Inserisci il secondo numero\"))\n",
        "z = float(input(\"Inserisci il terzo angolo\"))\n",
        "if x + y + z == 180:\n",
        "    print(\"La figura risultante è un triangolo\")\n",
        "    if x and y and z == 60:\n",
        "        print(\"Il triangolo è equilatero\")\n",
        "    else:\n",
        "        print(\"Il triangolo non è equilatero\")\n",
        "else:\n",
        "    print(\"La figura risultante non è un triangolo\")"
      ]
    },
    {
      "cell_type": "code",
      "execution_count": 15,
      "metadata": {
        "id": "8q4gadoTSU7J"
      },
      "outputs": [
        {
          "name": "stdout",
          "output_type": "stream",
          "text": [
            "La figura risultante è un triangolo\n",
            "Il triangolo è isoscele\n"
          ]
        }
      ],
      "source": [
        "# Es 4.5: Ottenuti dall'utente tre angoli di un tringolo scrivere a schermo se i tre angoli descrivono un triangolo isocele o no\n",
        "x = float(input(\"Inserisci il primo angolo\"))\n",
        "y = float(input(\"Inserisci il secondo numero\"))\n",
        "z = float(input(\"Inserisci il terzo angolo\"))\n",
        "if x + y + z == 180:\n",
        "    print(\"La figura risultante è un triangolo\")\n",
        "    if x == y and x == z:\n",
        "        print(\"Il triangolo e' equilatero\")\n",
        "    elif x == y or x == z or y == z:\n",
        "        print(\"Il triangolo è isoscele\")\n",
        "    else:\n",
        "        print(\"Il triangolo non è isoscele\")\n",
        "else:\n",
        "    print(\"La figura risultante non è un triangolo\")"
      ]
    },
    {
      "cell_type": "code",
      "execution_count": 3,
      "metadata": {
        "id": "yVIE2kK3SYlq"
      },
      "outputs": [
        {
          "name": "stdout",
          "output_type": "stream",
          "text": [
            "La figura risultante è un triangolo\n",
            "Il triangolo è equilatero\n"
          ]
        }
      ],
      "source": [
        "# Es 4.6: Ottenuti dall'utente tre angoli di un tringolo scrivere a schermo se i tre angoli descrivono un triangolo isocele, rettagolo, equilatero o scaleno\n",
        "x = float(input(\"Inserisci il primo angolo\"))\n",
        "y = float(input(\"Inserisci il secondo numero\"))\n",
        "z = float(input(\"Inserisci il terzo angolo\"))\n",
        "if x + y + z == 180:\n",
        "    print(\"La figura risultante è un triangolo\")\n",
        "    if x!=y and x!=z and y!=z:\n",
        "        print(\"Il triangolo è scaleno\")\n",
        "    elif x==60 and y==60 and z==60:\n",
        "        print(\"Il triangolo è equilatero\")\n",
        "    elif x==y or x==z or y==z:\n",
        "        print(\"Il triangolo è isoscele\")\n",
        "    if x==90 or y==90 or z==90:\n",
        "        print(\"Il triangolo è rettangolo\")\n",
        "else:\n",
        "    print(\"La figura risultante non è un triangolo\")"
      ]
    },
    {
      "cell_type": "markdown",
      "metadata": {
        "id": "ef5snVxLqeQh"
      },
      "source": [
        "# Esercizi WHILE\n"
      ]
    },
    {
      "cell_type": "code",
      "execution_count": 4,
      "metadata": {
        "id": "j61RqiHxqdmh"
      },
      "outputs": [
        {
          "name": "stdout",
          "output_type": "stream",
          "text": [
            "3\n",
            "3\n",
            "3\n"
          ]
        }
      ],
      "source": [
        "# Es 4.7: Creare una funzione print_n(n,v) che stampi n volte il. contenuto di v\n",
        "\n",
        "def print_n(n,v):\n",
        "    m = 0\n",
        "    while m < n:\n",
        "        print(v)\n",
        "        m = m+1\n",
        "\n",
        "v = int(input(\"Inserisci il valore da stampare\"))\n",
        "n = int(input(\"Inserisci il numero di volte\"))\n",
        "\n",
        "print_n(n,v)\n"
      ]
    },
    {
      "cell_type": "code",
      "execution_count": 5,
      "metadata": {
        "colab": {
          "base_uri": "https://localhost:8080/"
        },
        "id": "-6lAm-hfq9w9",
        "outputId": "399e82ba-3cfe-475f-f8df-0e156677ec75"
      },
      "outputs": [
        {
          "name": "stdout",
          "output_type": "stream",
          "text": [
            "1\n",
            "2\n",
            "7\n"
          ]
        }
      ],
      "source": [
        "# Es 4.8: Inserito il numero n dire per quali numeri, compresi tra 1 e n, è divisibile.\n",
        "# Inserisco 10: stampo 1,2,5\n",
        "# Inserisco 7: stampo 1\n",
        "\n",
        "numero = int(input(\"Inserisci un numero\"))\n",
        "\n",
        "m = 1\n",
        "while m <= numero/2:\n",
        "    if numero % m == 0:\n",
        "        print(m)\n",
        "    m = m+1\n",
        "\n"
      ]
    },
    {
      "cell_type": "code",
      "execution_count": 13,
      "metadata": {
        "colab": {
          "base_uri": "https://localhost:8080/"
        },
        "id": "GjC4LdR7rP-b",
        "outputId": "9f539b4d-c307-479a-da13-610a7e1cc46e"
      },
      "outputs": [
        {
          "name": "stdout",
          "output_type": "stream",
          "text": [
            "Il numero  6  non è primo\n"
          ]
        }
      ],
      "source": [
        "# Es 4.9: Inserito il numero n dire se è primo o no\n",
        "\n",
        "n = int(input())        # numero inserito dall'utente\n",
        "\n",
        "m = 2                        # contatore ciclo while\n",
        "primo = True        \n",
        "\n",
        "while primo and m < n:\n",
        "    if n % m == 0:\n",
        "        print(\"Il numero \", n,\" non è primo\")\n",
        "        primo = False \n",
        "    else:\n",
        "        m = m + 1\n",
        "\n",
        "if primo:\n",
        "    print(\"Il numero \", n, \" e' primo\")\n"
      ]
    },
    {
      "cell_type": "code",
      "execution_count": 14,
      "metadata": {
        "colab": {
          "base_uri": "https://localhost:8080/"
        },
        "id": "CxtWnOdHsTv4",
        "outputId": "5d874410-cb07-46a2-9c22-83d541b7a91a"
      },
      "outputs": [
        {
          "name": "stdout",
          "output_type": "stream",
          "text": [
            "-16\n"
          ]
        }
      ],
      "source": [
        "# Es 4.10: Creare la funzione moltiplica che restituisce il prodotto tra due numeri senza utilizzare *\n",
        "# 3*4 è uguale a 4+4+4\n",
        "\n",
        "def moltiplica(x,y):\n",
        "    m = 1\n",
        "    prodotto = 0\n",
        "    if x >= 0 :\n",
        "        while m <= x:\n",
        "            prodotto = prodotto + y\n",
        "            m = m + 1\n",
        "        print(prodotto)\n",
        "    if x < 0 and y >= 0:\n",
        "        while m <= y:\n",
        "            prodotto = prodotto + x\n",
        "            m = m + 1\n",
        "        print(prodotto)\n",
        "    elif x < 0 and y < 0:\n",
        "        x = -x\n",
        "        y = -y\n",
        "        while m <= x:\n",
        "            prodotto = prodotto + y\n",
        "            m = m + 1\n",
        "        print(prodotto)\n",
        "\n",
        "\n",
        "x = int(input(\"Inserisci il primo numero\"))\n",
        "\n",
        "y = int(input(\"Inserisci il secondo numero\"))\n",
        "\n",
        "moltiplica(x,y)\n",
        "\n"
      ]
    }
  ],
  "metadata": {
    "colab": {
      "provenance": []
    },
    "kernelspec": {
      "display_name": "Python 3",
      "name": "python3"
    },
    "language_info": {
      "codemirror_mode": {
        "name": "ipython",
        "version": 3
      },
      "file_extension": ".py",
      "mimetype": "text/x-python",
      "name": "python",
      "nbconvert_exporter": "python",
      "pygments_lexer": "ipython3",
      "version": "3.10.8"
    }
  },
  "nbformat": 4,
  "nbformat_minor": 0
}
