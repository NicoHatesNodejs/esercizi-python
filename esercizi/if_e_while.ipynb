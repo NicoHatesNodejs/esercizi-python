{
  "cells": [
    {
      "cell_type": "markdown",
      "metadata": {
        "id": "HB3XbPDcSqe1"
      },
      "source": [
        "# Esercizi IF"
      ]
    },
    {
      "cell_type": "code",
      "execution_count": null,
      "metadata": {
        "id": "0U7L9A29RfeT"
      },
      "outputs": [],
      "source": [
        "# Es 4.1: Ottenere dall'utente un numero in input e scrivere a schermo \"Pari\" se il numero è pari, scrivere \"Dispari\" altrimenti\n",
        "numero_bello = int(input(\"Inserisci un numero\"))\n",
        "if numero_bello == 0:\n",
        "    print(\"Numero non valido\")\n",
        "elif numero_bello % 2 == 0:\n",
        "    print(\"Pari\")\n",
        "else:\n",
        "    print(\"Dispari\")\n"
      ]
    },
    {
      "cell_type": "code",
      "execution_count": 5,
      "metadata": {
        "id": "gE3RVr9ORuwP"
      },
      "outputs": [
        {
          "name": "stdout",
          "output_type": "stream",
          "text": [
            "E' un triangolo\n"
          ]
        }
      ],
      "source": [
        "# Es 4.2: Ottenere dall'utente tre angoli caso siano i tre angoli di un triangolo scrivere a schermo \"È un triangolo\", altrimenti \"Non è un triangolo\"\n",
        "\n",
        "a = float(input(\"Inserisci il valore del primo angolo\"))\n",
        "b = float(input(\"Inserisci il valore del secondo angolo\"))\n",
        "c = float(input(\"Inserisci il valore del terzo angolo\"))\n",
        "\n",
        "while a == 0 or b == 0 or c == 0:\n",
        "    if a == 0:\n",
        "        a = float(input(\"Valore del primo angolo non valido!\"))\n",
        "    if b == 0:\n",
        "        b = float(input(\"Valore del secondo angolo non valido!\"))\n",
        "    if c == 0:\n",
        "        c = float(input(\"Valore del terzo angolo non valido!\"))\n",
        "\n",
        "if a + b + c == 180:\n",
        "    print(\"E' un triangolo\")\n",
        "else:\n",
        "    print(\"Non e' un triangolo\")\n",
        "\n"
      ]
    },
    {
      "cell_type": "code",
      "execution_count": 7,
      "metadata": {
        "id": "r1A_DavcSKgi"
      },
      "outputs": [
        {
          "name": "stdout",
          "output_type": "stream",
          "text": [
            "La figura risultante è un triangolo\n",
            "Il triangolo è retto\n"
          ]
        }
      ],
      "source": [
        "# Es 4.3: Ottenuti dall'utente tre angoli di un tringolo scrivere a schermo se i tre angoli descrivono un triangolo rettangolo o no\n",
        "a = float(input(\"Inserisci il primo angolo\"))\n",
        "b = float(input(\"Inserisci il secondo numero\"))\n",
        "c = float(input(\"Inserisci il terzo angolo\"))\n",
        "\n",
        "while a == 0 or b == 0 or c == 0:\n",
        "    if a == 0:\n",
        "        a = float(input(\"Valore del primo angolo non valido!\"))\n",
        "    if b == 0:\n",
        "        b = float(input(\"Valore del secondo angolo non valido!\"))\n",
        "    if c == 0:\n",
        "        c = float(input(\"Valore del terzo angolo non valido!\"))\n",
        "\n",
        "if a + b + c == 180:\n",
        "    print(\"La figura risultante è un triangolo\")\n",
        "    if a == 90 or b == 90 or c == 90:\n",
        "        print(\"Il triangolo è retto\")\n",
        "    else:\n",
        "        print(\"Il triangolo non è retto\")\n",
        "else:\n",
        "    print(\"La figura risultante non è un triangolo\")"
      ]
    },
    {
      "cell_type": "code",
      "execution_count": 9,
      "metadata": {
        "id": "iA9D4X_GSims"
      },
      "outputs": [
        {
          "name": "stdout",
          "output_type": "stream",
          "text": [
            "La figura risultante è un triangolo\n",
            "Il triangolo è equilatero\n"
          ]
        }
      ],
      "source": [
        "# Es 4.4: Ottenuti dall'utente tre angoli di un tringolo scrivere a schermo se i tre angoli descrivono un triangolo equilatero o no\n",
        "a = float(input(\"Inserisci il primo angolo\"))\n",
        "b = float(input(\"Inserisci il secondo numero\"))\n",
        "c = float(input(\"Inserisci il terzo angolo\"))\n",
        "\n",
        "while a == 0 or b == 0 or c == 0:\n",
        "    if a == 0:\n",
        "        a = float(input(\"Valore del primo angolo non valido!\"))\n",
        "    if b == 0:\n",
        "        b = float(input(\"Valore del secondo angolo non valido!\"))\n",
        "    if c == 0:\n",
        "        c = float(input(\"Valore del terzo angolo non valido!\"))\n",
        "\n",
        "if a + b + c == 180:\n",
        "    print(\"La figura risultante è un triangolo\")\n",
        "    if a == 60 and b == 60 and c == 60:\n",
        "        print(\"Il triangolo è equilatero\")\n",
        "    else:\n",
        "        print(\"Il triangolo non è equilatero\")\n",
        "else:\n",
        "    print(\"La figura risultante non è un triangolo\")"
      ]
    },
    {
      "cell_type": "code",
      "execution_count": 15,
      "metadata": {
        "id": "8q4gadoTSU7J"
      },
      "outputs": [
        {
          "name": "stdout",
          "output_type": "stream",
          "text": [
            "La figura risultante è un triangolo\n",
            "Il triangolo è isoscele\n"
          ]
        }
      ],
      "source": [
        "# Es 4.5: Ottenuti dall'utente tre angoli di un tringolo scrivere a schermo se i tre angoli descrivono un triangolo isocele o no\n",
        "a = float(input(\"Inserisci il primo angolo\"))\n",
        "b = float(input(\"Inserisci il secondo numero\"))\n",
        "c = float(input(\"Inserisci il terzo angolo\"))\n",
        "\n",
        "while a == 0 or b == 0 or c == 0:\n",
        "    if a == 0:\n",
        "        a = float(input(\"Valore del primo angolo non valido!\"))\n",
        "    if b == 0:\n",
        "        b = float(input(\"Valore del secondo angolo non valido!\"))\n",
        "    if c == 0:\n",
        "        c = float(input(\"Valore del terzo angolo non valido!\"))\n",
        "\n",
        "if a + b + c == 180:\n",
        "    print(\"La figura risultante è un triangolo\")\n",
        "    if a == b and a == c:\n",
        "        print(\"Il triangolo e' equilatero\")\n",
        "    elif a == b or a == c or b == c:\n",
        "        print(\"Il triangolo è isoscele\")\n",
        "    else:\n",
        "        print(\"Il triangolo non è isoscele\")\n",
        "else:\n",
        "    print(\"La figura risultante non è un triangolo\")"
      ]
    },
    {
      "cell_type": "code",
      "execution_count": 3,
      "metadata": {
        "id": "yVIE2kK3SYlq"
      },
      "outputs": [
        {
          "name": "stdout",
          "output_type": "stream",
          "text": [
            "La figura risultante è un triangolo\n",
            "Il triangolo è equilatero\n"
          ]
        }
      ],
      "source": [
        "# Es 4.6: Ottenuti dall'utente tre angoli di un tringolo scrivere a schermo se i tre angoli descrivono un triangolo isocele, rettagolo, equilatero o scaleno\n",
        "a = float(input(\"Inserisci il primo angolo\"))\n",
        "b = float(input(\"Inserisci il secondo numero\"))\n",
        "c = float(input(\"Inserisci il terco angolo\"))\n",
        "\n",
        "while a == 0 or b == 0 or c == 0:\n",
        "    if a == 0:\n",
        "        a = float(input(\"Valore del primo angolo non valido!\"))\n",
        "    if b == 0:\n",
        "        b = float(input(\"Valore del secondo angolo non valido!\"))\n",
        "    if c == 0:\n",
        "        c = float(input(\"Valore del terzo angolo non valido!\"))\n",
        "\n",
        "if a + b + c == 180:\n",
        "    print(\"La figura risultante è un triangolo\")\n",
        "    if a!=b and a!=c and b!=c:\n",
        "        print(\"Il triangolo è scaleno\")\n",
        "    elif a==60 and b==60 and c==60:\n",
        "        print(\"Il triangolo è equilatero\")\n",
        "    elif a==b or a==c or b==c:\n",
        "        print(\"Il triangolo è isoscele\")\n",
        "    if a==90 or b==90 or c==90:\n",
        "        print(\"Il triangolo è rettangolo\")\n",
        "else:\n",
        "    print(\"La figura risultante non è un triangolo\")"
      ]
    },
    {
      "cell_type": "markdown",
      "metadata": {
        "id": "ef5snVxLqeQh"
      },
      "source": [
        "# Esercizi WHILE\n"
      ]
    },
    {
      "cell_type": "code",
      "execution_count": 1,
      "metadata": {
        "id": "j61RqiHxqdmh"
      },
      "outputs": [
        {
          "name": "stdout",
          "output_type": "stream",
          "text": [
            "4\n",
            "4\n",
            "4\n"
          ]
        }
      ],
      "source": [
        "# Es 4.7: Creare una funzione print_n(n,v) che stampi n volte il. contenuto di v\n",
        "\n",
        "def print_n(n,v):\n",
        "    m = 0\n",
        "    while m < n:\n",
        "        print(v)\n",
        "        m = m+1\n",
        "\n",
        "v = int(input(\"Inserisci il valore da stampare\"))\n",
        "n = int(input(\"Inserisci il numero di volte\"))\n",
        "\n",
        "print_n(n,v)\n"
      ]
    },
    {
      "cell_type": "code",
      "execution_count": 2,
      "metadata": {
        "colab": {
          "base_uri": "https://localhost:8080/"
        },
        "id": "-6lAm-hfq9w9",
        "outputId": "399e82ba-3cfe-475f-f8df-0e156677ec75"
      },
      "outputs": [
        {
          "name": "stdout",
          "output_type": "stream",
          "text": [
            "1\n",
            "2\n",
            "5\n",
            "10\n"
          ]
        }
      ],
      "source": [
        "# Es 4.8: Inserito il numero n dire per quali numeri, compresi tra 1 e n, è divisibile.\n",
        "# Inserisco 10: stampo 1,2,5\n",
        "# Inserisco 7: stampo 1\n",
        "\n",
        "numero = int(input(\"Inserisci un numero\"))\n",
        "\n",
        "m = 1\n",
        "while m <= numero:\n",
        "    if numero % m == 0:\n",
        "        print(m)\n",
        "    m = m+1\n"
      ]
    },
    {
      "cell_type": "code",
      "execution_count": 4,
      "metadata": {
        "colab": {
          "base_uri": "https://localhost:8080/"
        },
        "id": "GjC4LdR7rP-b",
        "outputId": "9f539b4d-c307-479a-da13-610a7e1cc46e"
      },
      "outputs": [
        {
          "name": "stdout",
          "output_type": "stream",
          "text": [
            "Il numero  14  non è primo\n"
          ]
        }
      ],
      "source": [
        "# Es 4.9: Inserito il numero n dire se è primo o no\n",
        "\n",
        "n = int(input(\"Inserisci il numero\"))      \n",
        "\n",
        "m = 2                        \n",
        "primo = True        \n",
        "\n",
        "while primo and m < n:\n",
        "    if n % m == 0:\n",
        "        print(\"Il numero \", n,\" non è primo\")\n",
        "        primo = False \n",
        "    else:\n",
        "        m = m + 1\n",
        "\n",
        "if primo:\n",
        "    print(\"Il numero \", n, \" e' primo\")\n"
      ]
    },
    {
      "cell_type": "code",
      "execution_count": 14,
      "metadata": {
        "colab": {
          "base_uri": "https://localhost:8080/"
        },
        "id": "CxtWnOdHsTv4",
        "outputId": "5d874410-cb07-46a2-9c22-83d541b7a91a"
      },
      "outputs": [
        {
          "name": "stdout",
          "output_type": "stream",
          "text": [
            "-16\n"
          ]
        }
      ],
      "source": [
        "# Es 4.10: Creare la funzione moltiplica che restituisce il prodotto tra due numeri senza utilizzare *\n",
        "# 3*4 è uguale a 4+4+4\n",
        "\n",
        "def moltiplica(x,y):\n",
        "    m = 1\n",
        "    prodotto = 0\n",
        "    if x >= 0 :\n",
        "        while m <= x:\n",
        "            prodotto = prodotto + y\n",
        "            m = m + 1\n",
        "        print(prodotto)\n",
        "    if x < 0 and y >= 0:\n",
        "        while m <= y:\n",
        "            prodotto = prodotto + x\n",
        "            m = m + 1\n",
        "        print(prodotto)\n",
        "    elif x < 0 and y < 0:\n",
        "        x = -x\n",
        "        y = -y\n",
        "        while m <= x:\n",
        "            prodotto = prodotto + y\n",
        "            m = m + 1\n",
        "        print(prodotto)\n",
        "\n",
        "\n",
        "x = int(input(\"Inserisci il primo numero\"))\n",
        "\n",
        "y = int(input(\"Inserisci il secondo numero\"))\n",
        "\n",
        "moltiplica(x,y)\n",
        "\n"
      ]
    }
  ],
  "metadata": {
    "colab": {
      "provenance": []
    },
    "kernelspec": {
      "display_name": "Python 3",
      "name": "python3"
    },
    "language_info": {
      "codemirror_mode": {
        "name": "ipython",
        "version": 3
      },
      "file_extension": ".py",
      "mimetype": "text/x-python",
      "name": "python",
      "nbconvert_exporter": "python",
      "pygments_lexer": "ipython3",
      "version": "3.10.8"
    }
  },
  "nbformat": 4,
  "nbformat_minor": 0
}
