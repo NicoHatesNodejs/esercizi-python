{
  "cells": [
    {
      "cell_type": "markdown",
      "metadata": {
        "id": "HB3XbPDcSqe1"
      },
      "source": [
        "# Esercizi Geometrici"
      ]
    },
    {
      "cell_type": "markdown",
      "metadata": {
        "id": "LCcywn6v2KxD"
      },
      "source": [
        "In Python per stampare consecutivamente più parole senza creare una riga per ognuna bisogna usare il seguente codice:\n"
      ]
    },
    {
      "cell_type": "code",
      "execution_count": null,
      "metadata": {
        "colab": {
          "base_uri": "https://localhost:8080/"
        },
        "id": "PHdyo8E42sza",
        "outputId": "fb51a75d-54ef-48c3-f6ad-342834d2738b"
      },
      "outputs": [],
      "source": [
        "print(\"Parola 1\", end=\" \")\n",
        "print(\"Parola 2\", end=\".\\n\")\n",
        "print(\"Parola 3\")"
      ]
    },
    {
      "cell_type": "code",
      "execution_count": 5,
      "metadata": {
        "colab": {
          "base_uri": "https://localhost:8080/"
        },
        "id": "0U7L9A29RfeT",
        "outputId": "ccdd9b72-55df-486a-a68d-cfe73e90461d"
      },
      "outputs": [
        {
          "name": "stdout",
          "output_type": "stream",
          "text": [
            "* \n"
          ]
        }
      ],
      "source": [
        "# Es 6.1: Scrivi la funzione quadrato(n) che stampi a schermo un quadrato di lato nxn formato utilizzando il carattere *\n",
        "#\n",
        "#                            1 2 3\n",
        "#         Esempio:    3 ->1  * * *       4 ->  * * * *\n",
        "#                         2  *   *             * * * *\n",
        "#                         3  * * *             * * * *\n",
        "#                                              * * * *\n",
        "def quadrato(n):\n",
        "    for verticale in range(n):\n",
        "        for orizzontale in range(n):\n",
        "            print(\"*\", end = \" \")\n",
        "        print(\"\\n\", end = \"\")\n",
        "\n",
        "lato = int(input(\"Inserisci il lato del quadrato\"))\n",
        "\n",
        "while lato <= 0:\n",
        "    lato = int(input(\"Misura non valida! Riprovare\"))\n",
        "\n",
        "quadrato(lato)"
      ]
    },
    {
      "cell_type": "code",
      "execution_count": 6,
      "metadata": {
        "id": "gE3RVr9ORuwP"
      },
      "outputs": [
        {
          "name": "stdout",
          "output_type": "stream",
          "text": [
            "* * * * * * \n",
            "* * * * * * \n",
            "* * * * * * \n"
          ]
        }
      ],
      "source": [
        "# Es 6.2: Scrivi la funzione rettangolo(n) che stampi a schermo un rettangolo di lato nx2n formato utilizzando il carattere *\n",
        "#         Esempio:    3 ->  * * * * * *         4 ->  * * * * * * * *\n",
        "#                           * * * * * *               * * * * * * * *\n",
        "#                           * * * * * *               * * * * * * * *\n",
        "#                                                     * * * * * * * *\n",
        "\n",
        "def rettangolo(n):\n",
        "    for verticale in range(n):\n",
        "        for orizzontale in range(2*n):\n",
        "            print(\"*\", end = \" \")\n",
        "        print(\"\")\n",
        "\n",
        "lato = int(input(\"Inserisci il lato del rettangolo\"))\n",
        "\n",
        "while lato <= 0:\n",
        "    lato = int(input(\"Misura non valida! Riprovare\"))\n",
        "\n",
        "rettangolo(lato)"
      ]
    },
    {
      "cell_type": "code",
      "execution_count": 8,
      "metadata": {
        "id": "r1A_DavcSKgi"
      },
      "outputs": [
        {
          "name": "stdout",
          "output_type": "stream",
          "text": [
            "* \n",
            "* * \n",
            "* * * \n",
            "* * * * \n",
            "* * * * * \n",
            "* * * * * * \n",
            "* * * * * * * \n",
            "* * * * * * * * \n",
            "* * * * * * * * * \n",
            "* * * * * * * * * * \n",
            "* * * * * * * * * * * \n",
            "* * * * * * * * * * * * \n",
            "* * * * * * * * * * * * * \n",
            "* * * * * * * * * * * * * * \n",
            "* * * * * * * * * * * * * * * \n",
            "* * * * * * * * * * * * * * * * \n",
            "* * * * * * * * * * * * * * * * * \n",
            "* * * * * * * * * * * * * * * * * * \n",
            "* * * * * * * * * * * * * * * * * * * \n",
            "* * * * * * * * * * * * * * * * * * * * \n",
            "* * * * * * * * * * * * * * * * * * * * * \n",
            "* * * * * * * * * * * * * * * * * * * * * * \n",
            "* * * * * * * * * * * * * * * * * * * * * * * \n",
            "* * * * * * * * * * * * * * * * * * * * * * * * \n",
            "* * * * * * * * * * * * * * * * * * * * * * * * * \n",
            "* * * * * * * * * * * * * * * * * * * * * * * * * * \n",
            "* * * * * * * * * * * * * * * * * * * * * * * * * * * \n",
            "* * * * * * * * * * * * * * * * * * * * * * * * * * * * \n",
            "* * * * * * * * * * * * * * * * * * * * * * * * * * * * * \n",
            "* * * * * * * * * * * * * * * * * * * * * * * * * * * * * * \n"
          ]
        }
      ],
      "source": [
        "# Es 6.3: Scrivi la funzione triangolo_rettangolo(n) che stampi a schermo un triangolo di cateti n e n formato utilizzando il carattere *\n",
        "#         Esempio:    3 ->  *           4 ->  *\n",
        "#                           * *               * *\n",
        "#                           * * *             * * *\n",
        "#                                             * * * *\n",
        "\n",
        "def triangolo_rettangolo(n):\n",
        "    for verticale in range(n):\n",
        "        for orizzontale in range(verticale+1):\n",
        "            print(\"*\", end = \" \")\n",
        "        print(\"\")\n",
        "\n",
        "lato = int(input(\"Inserisci il lato del triangolo\"))\n",
        "\n",
        "while lato <= 0:\n",
        "    lato = int(input(\"Misura non valida! Riprovare\"))\n",
        "\n",
        "triangolo_rettangolo(lato)\n",
        "\n",
        "\n"
      ]
    },
    {
      "cell_type": "code",
      "execution_count": 15,
      "metadata": {
        "id": "iA9D4X_GSims"
      },
      "outputs": [
        {
          "name": "stdout",
          "output_type": "stream",
          "text": [
            "* * * * * * \n",
            "*         * \n",
            "*         * \n",
            "*         * \n",
            "*         * \n",
            "* * * * * * \n"
          ]
        }
      ],
      "source": [
        "# Es 6.4: Scrivi la funzione bordo_quadrato(n) che stampi a schermo un quadrato di lato nxn formato utilizzando il carattere * come contorno\n",
        "#         Esempio:    3 ->  * * *       4 ->  * * * *\n",
        "#                           *   *             *     *\n",
        "#                           * * *             *     *\n",
        "#                                             * * * *\n",
        "# \n",
        "def bordo_quadrato(n):\n",
        "    for verticale in range(n):\n",
        "        for orizzontale in range(n):\n",
        "            if orizzontale == 0 or orizzontale == n - 1 or verticale == 0 or verticale == n - 1: \n",
        "                print(\"*\", end = \" \")\n",
        "            else:\n",
        "                print(\" \", end = \" \")\n",
        "        print(\"\")\n",
        "\n",
        "lato = int(input(\"Inserisci il lato del quadrato\"))\n",
        "\n",
        "while lato <= 0:\n",
        "    lato = int(input(\"Misura non valida! Riprovare\"))\n",
        "\n",
        "bordo_quadrato(lato)"
      ]
    },
    {
      "cell_type": "code",
      "execution_count": 12,
      "metadata": {
        "colab": {
          "base_uri": "https://localhost:8080/"
        },
        "id": "1vlDMqo_4uNc",
        "outputId": "de4cc1b2-7110-4ad6-b86c-d67c5756c074"
      },
      "outputs": [
        {
          "name": "stdout",
          "output_type": "stream",
          "text": [
            "/ -  -  -  -  -  -  -  -  -  -  -  -  \\ \n",
            "|                         | \n",
            "|                         | \n",
            "|                         | \n",
            "|                         | \n",
            "|                         | \n",
            "|                         | \n",
            "|                         | \n",
            "|                         | \n",
            "|                         | \n",
            "|                         | \n",
            "|                         | \n",
            "|                         | \n",
            "\\ -  -  -  -  -  -  -  -  -  -  -  -  / \n"
          ]
        }
      ],
      "source": [
        "# Es 6.5: Scrivi la funzione bordo_quadrato_bello(n) che stampi a schermo un quadrato di lato nxn formato utilizzando iseguenti caratteri:\n",
        "#         Esempio:    3 ->  / - \\       4 ->  / - - \\ \n",
        "#                           |   |             |     |\n",
        "#                           \\ - /             |     |\n",
        "#                                             \\ - - /\n",
        "# Per stampare \\ dovete utilizzare \"\\\\\" ovvero print(\"\\\\\")\n",
        "\n",
        "def bordo_quadrato_bello(n):\n",
        "    for verticale in range(n):\n",
        "        for orizzontale in range(n):\n",
        "            if (orizzontale == n-1 and verticale == n-1) or (orizzontale == 0 and verticale == 0): \n",
        "                print(\"/\", end = \" \")\n",
        "            elif (orizzontale == 0 and verticale == n-1) or (orizzontale == n-1 and verticale == 0): \n",
        "                print(\"\\\\\", end = \" \")\n",
        "            elif (verticale !=0 and verticale != n-1) and (orizzontale == 0  or orizzontale == n-1 ) :\n",
        "                print(\"|\", end = \" \")\n",
        "            elif (orizzontale !=0 and orizzontale != n-1) and (verticale == 0  or verticale == n-1 ) :\n",
        "                print(\"-\", end = \" \")\n",
        "            else:\n",
        "                print(\" \", end = \" \")\n",
        "        print(\"\")\n",
        "\n",
        "lato = int(input(\"Inserisci il lato del quadrato\"))\n",
        "\n",
        "while lato <= 0:\n",
        "    lato = int(input(\"Misura non valida! Riprovare\"))\n",
        "\n",
        "bordo_quadrato_bello(lato)"
      ]
    },
    {
      "cell_type": "code",
      "execution_count": 14,
      "metadata": {
        "id": "2E9Hk9kkv5Mx"
      },
      "outputs": [
        {
          "name": "stdout",
          "output_type": "stream",
          "text": [
            "^\\  \n",
            "| \\ \n",
            "|  \\\n",
            "|___\\\n"
          ]
        }
      ],
      "source": [
        "# Es 6.6: Scrivi la funzione trianglo_bello(n) che stampi a schermo un triangolo di cateti n e n formato utilizzando iseguenti caratteri:\n",
        "#.   ^\\\n",
        "#    | \\\n",
        "#.   |  \\\n",
        "#.   |___\\\n",
        "\n",
        "def triangolo_bello(n):\n",
        "    \n",
        "    for verticale in range(n):\n",
        "        for orizzontale in range(n):\n",
        "            if verticale == 0 and orizzontale == 0:\n",
        "                print(\"^\", end = \"\")\n",
        "            elif orizzontale == 0:\n",
        "                print(\"|\", end = \"\")\n",
        "            elif verticale == n-1 and (orizzontale != 0 and orizzontale != n):\n",
        "                print(\"_\", end = \"\")\n",
        "            elif orizzontale == verticale + 1:\n",
        "                print(\"\\\\\", end = \"\")\n",
        "            else:\n",
        "                print(\" \", end = \"\")\n",
        "            if verticale == n - 1 and orizzontale == n - 1:\n",
        "                print(\"\\\\\", end = \"\")\n",
        "        print(\"\")\n",
        "\n",
        "lato = int(input(\"Inserisci il lato del triangolo\"))\n",
        "\n",
        "while lato <= 0:\n",
        "    lato = int(input(\"Misura non valida! Riprovare\"))\n",
        "\n",
        "triangolo_bello(lato)"
      ]
    }
  ],
  "metadata": {
    "colab": {
      "provenance": []
    },
    "kernelspec": {
      "display_name": "Python 3",
      "name": "python3"
    },
    "language_info": {
      "codemirror_mode": {
        "name": "ipython",
        "version": 3
      },
      "file_extension": ".py",
      "mimetype": "text/x-python",
      "name": "python",
      "nbconvert_exporter": "python",
      "pygments_lexer": "ipython3",
      "version": "3.0.0"
    }
  },
  "nbformat": 4,
  "nbformat_minor": 0
}
