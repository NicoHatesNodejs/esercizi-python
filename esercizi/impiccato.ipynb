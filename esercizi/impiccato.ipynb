{
  "cells": [
    {
      "cell_type": "code",
      "execution_count": 1,
      "metadata": {
        "id": "dEWxmkWc48Lz"
      },
      "outputs": [
        {
          "ename": "IndentationError",
          "evalue": "expected an indented block after 'if' statement on line 14 (2986904739.py, line 16)",
          "output_type": "error",
          "traceback": [
            "\u001b[0;36m  Cell \u001b[0;32mIn[1], line 16\u001b[0;36m\u001b[0m\n\u001b[0;31m    if scelta == '2':\u001b[0m\n\u001b[0m    ^\u001b[0m\n\u001b[0;31mIndentationError\u001b[0m\u001b[0;31m:\u001b[0m expected an indented block after 'if' statement on line 14\n"
          ]
        }
      ],
      "source": [
        "# Es 8.1 Creare il gioco dell'impiccato\n",
        "# Suggerimento: per controllare se la lettera 'a' è presente all'interno della parola 'casa' si può usare:\n",
        "#\n",
        "# if 'a' in 'casa':\n",
        "#   print('Presente')\n",
        "gioco = True\n",
        "vite = 8\n",
        "while gioco == True:\n",
        "    print(\"Benvenuto al gioco dell'impiccato, cosa vuoi fare?\")\n",
        "    print(\"1. Leggere le regole\")\n",
        "    print(\"2. Giocare\")\n",
        "    print(\"3. Crediti\")\n",
        "    scelta = input(\"\")\n",
        "    if scelta == '1':\n",
        "        #sta roba stampa le regole (credo)\n",
        "    if scelta == '2':\n",
        "        #sta roba fa il gioco\n",
        "        parola = input(\"Inserisci la parola\")\n",
        "        for lettera in parola:\n",
        "            conta = 0\n",
        "            if lettera in parola:\n",
        "                print(\"Lettera presente\")\n",
        "                parola_utente[0] = lettera\n",
        "                print(parola_utente)\n",
        "            else:\n",
        "                vite = vite - 1\n",
        "                print(\"Lettera non presente\")\n",
        "                print(\"Vite rimaste: \", vite)\n",
        "\n",
        "    if scelta == '3':\n",
        "        #sta roba dice che lo ho fatto io\n",
        "\n",
        "\n",
        "\n",
        "    \n",
        "\n",
        "    "
      ]
    }
  ],
  "metadata": {
    "colab": {
      "provenance": []
    },
    "kernelspec": {
      "display_name": "Python 3",
      "name": "python3"
    },
    "language_info": {
      "codemirror_mode": {
        "name": "ipython",
        "version": 3
      },
      "file_extension": ".py",
      "mimetype": "text/x-python",
      "name": "python",
      "nbconvert_exporter": "python",
      "pygments_lexer": "ipython3",
      "version": "3.10.8"
    }
  },
  "nbformat": 4,
  "nbformat_minor": 0
}
