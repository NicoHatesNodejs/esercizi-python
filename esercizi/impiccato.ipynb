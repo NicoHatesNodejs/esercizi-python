{
  "cells": [
    {
      "cell_type": "code",
      "execution_count": 1,
      "metadata": {
        "id": "dEWxmkWc48Lz"
      },
      "outputs": [
        {
          "name": "stdout",
          "output_type": "stream",
          "text": [
            "Benvenuto al gioco dell'impiccato, cosa vuoi fare?\n",
            "1. Leggere le regole\n",
            "2. Giocare\n",
            "3. Crediti\n",
            "Benvenuto al gioco dell'impiccato, cosa vuoi fare?\n",
            "1. Leggere le regole\n",
            "2. Giocare\n",
            "3. Crediti\n",
            "Lettera non presente\n",
            "Vite rimaste:  7\n",
            "['']\n",
            "Benvenuto al gioco dell'impiccato, cosa vuoi fare?\n",
            "1. Leggere le regole\n",
            "2. Giocare\n",
            "3. Crediti\n"
          ]
        }
      ],
      "source": [
        "# Es 8.1 Creare il gioco dell'impiccato\n",
        "# Suggerimento: per controllare se la lettera 'a' è presente all'interno della parola 'casa' si può usare:\n",
        "#\n",
        "# if 'a' in 'casa':\n",
        "#   print('Presente')\n",
        "gioco = True\n",
        "vite = 8\n",
        "while gioco == True:\n",
        "    print(\"Benvenuto al gioco dell'impiccato, cosa vuoi fare?\")\n",
        "    print(\"1. Leggere le regole\")\n",
        "    print(\"2. Giocare\")\n",
        "    print(\"3. Crediti\")\n",
        "    scelta = input(\"\")\n",
        "    if scelta == '2':\n",
        "        parola = list(input(\"Inserisci la parola\"))\n",
        "        parola_utente = ['' for numero in range(len(parola))]\n",
        "        for lettera in parola:\n",
        "            conta = 0\n",
        "            lettera_utente = input(\"Inserisci una lettera!\")\n",
        "            if lettera == lettera_utente:\n",
        "                print(\"Lettera presente\")\n",
        "                parola_utente[conta] = lettera\n",
        "                print(parola_utente)\n",
        "            else:\n",
        "                vite = vite - 1\n",
        "                print(\"Lettera non presente\")\n",
        "                print(\"Vite rimaste: \", vite)\n",
        "                print(parola_utente)\n",
        "            conta = conta+1\n",
        "\n",
        "\n",
        "\n",
        "    \n",
        "\n",
        "    "
      ]
    }
  ],
  "metadata": {
    "colab": {
      "provenance": []
    },
    "kernelspec": {
      "display_name": "Python 3",
      "name": "python3"
    },
    "language_info": {
      "codemirror_mode": {
        "name": "ipython",
        "version": 3
      },
      "file_extension": ".py",
      "mimetype": "text/x-python",
      "name": "python",
      "nbconvert_exporter": "python",
      "pygments_lexer": "ipython3",
      "version": "3.10.8"
    }
  },
  "nbformat": 4,
  "nbformat_minor": 0
}
