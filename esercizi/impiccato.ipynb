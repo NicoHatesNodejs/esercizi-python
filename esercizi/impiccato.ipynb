{
  "cells": [
    {
      "cell_type": "code",
      "execution_count": 6,
      "metadata": {
        "id": "dEWxmkWc48Lz"
      },
      "outputs": [
        {
          "name": "stdout",
          "output_type": "stream",
          "text": [
            "Hai scelto la lettera  p\n",
            "Lettera non presente,  7 tentativi rimasti!\n",
            "Hai scelto la lettera  p\n",
            "Lettera non presente,  6 tentativi rimasti!\n",
            "Hai scelto la lettera  p\n",
            "Lettera non presente,  5 tentativi rimasti!\n",
            "Hai scelto la lettera  g\n",
            "Lettera non presente,  4 tentativi rimasti!\n",
            "Hai scelto la lettera  s\n",
            "Lettera presente\n",
            "['s', ' ', 's', 's', ' ']\n",
            "Hai scelto la lettera  a\n",
            "Lettera presente\n",
            "['s', 'a', 's', 's', ' ']\n",
            "Hai scelto la lettera  o\n",
            "Lettera presente\n",
            "['s', 'a', 's', 's', 'o']\n",
            "Hai vinto!\n"
          ]
        }
      ],
      "source": [
        "# Es 8.1 Creare il gioco dell'impiccato\n",
        "# Suggerimento: per controllare se la lettera 'a' è presente all'interno della parola 'casa' si può usare:\n",
        "#\n",
        "# if 'a' in 'casa':\n",
        "#   print('Presente')\n",
        "vite = 8\n",
        "parola = list(input(\"Inserisci la parola\"))\n",
        "parola_utente = [\" \" for numero in range(len(parola))]\n",
        "while vite > 0:\n",
        "    if parola == parola_utente:\n",
        "        print(\"Hai vinto!\")\n",
        "        vite = 0\n",
        "    else:\n",
        "        lettera_utente = input(\"Inserisci una lettera!\")\n",
        "        print(\"Hai scelto la lettera \", lettera_utente)\n",
        "        if lettera_utente in parola:\n",
        "            print(\"Lettera presente\")\n",
        "            for i in range(len(parola)):\n",
        "                if parola[i] == lettera_utente:\n",
        "                    for j in range(len(parola)):\n",
        "                        if parola[j] == lettera_utente:\n",
        "                            parola_utente[j] = lettera_utente\n",
        "                    print(parola_utente)\n",
        "                    break\n",
        "        else:\n",
        "            vite -= 1\n",
        "            print(\"Lettera non presente, \", vite, \"tentativi rimasti!\")\n",
        "\n",
        "\n",
        "\n",
        "    \n",
        "\n",
        "    "
      ]
    }
  ],
  "metadata": {
    "colab": {
      "provenance": []
    },
    "kernelspec": {
      "display_name": "Python 3",
      "name": "python3"
    },
    "language_info": {
      "codemirror_mode": {
        "name": "ipython",
        "version": 3
      },
      "file_extension": ".py",
      "mimetype": "text/x-python",
      "name": "python",
      "nbconvert_exporter": "python",
      "pygments_lexer": "ipython3",
      "version": "3.10.8"
    }
  },
  "nbformat": 4,
  "nbformat_minor": 0
}
